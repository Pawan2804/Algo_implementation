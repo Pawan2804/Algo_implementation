{
 "cells": [
  {
   "cell_type": "code",
   "execution_count": 21,
   "id": "f70ceaad",
   "metadata": {},
   "outputs": [
    {
     "name": "stdout",
     "output_type": "stream",
     "text": [
      "1\n"
     ]
    }
   ],
   "source": [
    "import math\n",
    "arr = [2,8,7,5,23]\n",
    "ele = 8\n",
    "def linear_search(arr,ele):\n",
    "    for i in range(0,len(arr)):\n",
    "        if arr[i] == ele:\n",
    "            return i          \n",
    "    return -1\n",
    "a = linear_search(arr,ele)\n",
    "if a == -1:\n",
    "    print(\"Element not found\")\n",
    "else:\n",
    "    print(a)"
   ]
  },
  {
   "cell_type": "code",
   "execution_count": 22,
   "id": "1450df6b",
   "metadata": {},
   "outputs": [
    {
     "name": "stdout",
     "output_type": "stream",
     "text": [
      "Element not found\n",
      "None\n"
     ]
    }
   ],
   "source": [
    "#binary Search\n",
    "arr.sort()\n",
    "def bin_sea(arr,l,h,key):\n",
    "#     l1,h1=0\n",
    "    if h > l:\n",
    "        mid = math.floor((l+h)/2)\n",
    "        if(arr[mid]==key):\n",
    "            print(mid)\n",
    "            return mid\n",
    "        elif(arr[mid]<key):\n",
    "    #             print(h1)\n",
    "            return bin_sea(arr,l,mid - 1,key)\n",
    "        elif(arr[mid]>key):\n",
    "            return bin_sea(arr,mid +1,h,key)\n",
    "    else:\n",
    "        print(\"Element not found\")\n",
    "res = bin_sea(arr,0,len(arr)-1,ele)\n",
    "print(res)"
   ]
  },
  {
   "cell_type": "code",
   "execution_count": 23,
   "id": "76e1d6bf",
   "metadata": {},
   "outputs": [
    {
     "name": "stdout",
     "output_type": "stream",
     "text": [
      "[1, 3, 10, 19, 40, 150]\n"
     ]
    }
   ],
   "source": [
    "#selection sort\n",
    "arr=[150,3,40,19,10,1]\n",
    "def selection(arr):\n",
    "    for i in range(0,len(arr)):\n",
    "        mini=arr[i]\n",
    "        for j in range(i+1,len(arr)):\n",
    "                if(arr[j]<mini):\n",
    "                    mini=arr[j]\n",
    "                    arr[j],arr[i]=arr[i],arr[j]\n",
    "    return arr\n",
    "res=selection(arr)  \n",
    "print(res)"
   ]
  },
  {
   "cell_type": "code",
   "execution_count": 24,
   "id": "a48aa9a5",
   "metadata": {},
   "outputs": [
    {
     "name": "stdout",
     "output_type": "stream",
     "text": [
      "[1, 3, 10, 19, 40, 150]\n"
     ]
    }
   ],
   "source": [
    "#bubble sort\n",
    "def bubble(arr):\n",
    "    for i in range(0,len(arr)):\n",
    "        for j in range(0,len(arr)-i-1):\n",
    "            if arr[j] > arr[j+1]:\n",
    "                arr[j],arr[j+1] = arr[j+1],arr[j]\n",
    "    return arr\n",
    "res = bubble(arr)\n",
    "print(res)"
   ]
  },
  {
   "cell_type": "code",
   "execution_count": 25,
   "id": "fb621b37",
   "metadata": {},
   "outputs": [],
   "source": [
    "# #merge sort\n",
    "# a1 = [34,56,2,32,21,4]\n",
    "# a2 = [25,67,78,54]\n",
    "# res = []\n",
    "# def merge(a1,a2):\n",
    "#     a1.append(10^9)\n",
    "#     a2.append(10^9)\n",
    "#     print(a1)\n",
    "#     max_list = max(len(a1),len(a2))\n",
    "#     for i in range(0,max_list):\n",
    "#         if(a1[i] < a2[i]):\n",
    "#             res.append(a1[i])\n",
    "# merge(a1,a2)                "
   ]
  },
  {
   "cell_type": "code",
   "execution_count": 31,
   "id": "0801fc4c",
   "metadata": {},
   "outputs": [
    {
     "ename": "IndentationError",
     "evalue": "expected an indented block after 'if' statement on line 9 (Temp/ipykernel_1312/1182168091.py, line 12)",
     "output_type": "error",
     "traceback": [
      "\u001b[1;36m  File \u001b[1;32m\"C:\\Users\\PAWANV~1\\AppData\\Local\\Temp/ipykernel_1312/1182168091.py\"\u001b[1;36m, line \u001b[1;32m12\u001b[0m\n\u001b[1;33m    \u001b[0m\n\u001b[1;37m    ^\u001b[0m\n\u001b[1;31mIndentationError\u001b[0m\u001b[1;31m:\u001b[0m expected an indented block after 'if' statement on line 9\n"
     ]
    }
   ],
   "source": [
    "# Pattern Matching\n",
    "txt =  list(\"AABAACAADAABAABA\")\n",
    "pat= list(\"AABA\")\n",
    "print(\"Text is:\",txt)\n",
    "print(\"pattern is:\",pat)\n",
    "def pat_mat(txt,pat):\n",
    "    count = 0\n",
    "    for i in range(0,len(pat)):\n",
    "        for j in range(0,len(txt)):\n",
    "            if pat[i] == txt[j]:\n",
    "                i = i + 1\n",
    "                if j == len(pat):\n",
    "                    count = count +1\n",
    "                    \n",
    "            elif pat[i]! = txt[j]:\n",
    "                j = j +1\n",
    "                i = 0\n",
    "                if \n",
    "                \n",
    "                \n",
    "                \n",
    "            \n",
    "                \n",
    "            \n",
    "        "
   ]
  },
  {
   "cell_type": "code",
   "execution_count": null,
   "id": "4c6dedf2",
   "metadata": {},
   "outputs": [],
   "source": []
  }
 ],
 "metadata": {
  "kernelspec": {
   "display_name": "Python 3 (ipykernel)",
   "language": "python",
   "name": "python3"
  },
  "language_info": {
   "codemirror_mode": {
    "name": "ipython",
    "version": 3
   },
   "file_extension": ".py",
   "mimetype": "text/x-python",
   "name": "python",
   "nbconvert_exporter": "python",
   "pygments_lexer": "ipython3",
   "version": "3.10.0"
  }
 },
 "nbformat": 4,
 "nbformat_minor": 5
}
