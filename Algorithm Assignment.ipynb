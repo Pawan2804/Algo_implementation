{
 "cells": [
  {
   "cell_type": "code",
   "execution_count": 8,
   "id": "f70ceaad",
   "metadata": {},
   "outputs": [
    {
     "name": "stdout",
     "output_type": "stream",
     "text": [
      "Element found at 0\n"
     ]
    }
   ],
   "source": [
    "#linear search\n",
    "import math\n",
    "arr = [2,8,7,5,23]\n",
    "ele = 2\n",
    "def linear_search(arr,ele):\n",
    "    for i in range(0,len(arr)):\n",
    "        if arr[i] == ele:\n",
    "            return i          \n",
    "    return -1\n",
    "a = linear_search(arr,ele)\n",
    "if a == -1:\n",
    "    print(\"Element not found\")\n",
    "else:\n",
    "    print(\"Element found at\",a)"
   ]
  },
  {
   "cell_type": "code",
   "execution_count": 10,
   "id": "1450df6b",
   "metadata": {},
   "outputs": [
    {
     "name": "stdout",
     "output_type": "stream",
     "text": [
      "3\n"
     ]
    }
   ],
   "source": [
    "#Binary Search\n",
    "import math\n",
    "arr=[1,2,3,4,5]\n",
    "ele=3\n",
    "def bin_sea(arr,l,h,key):\n",
    "    if h >= l:\n",
    "        mid = math.floor((l+h)/2)\n",
    "        if(arr[mid]==key):\n",
    "            return mid\n",
    "        elif arr[mid] > key:\n",
    "                 return bin_sea(arr, l, mid-1, key)\n",
    "        else:\n",
    "                 return bin_sea(arr, mid + 1, h, key)\n",
    "    else:\n",
    "        return -1\n",
    "res = bin_sea(arr,0,len(arr)-1,ele)\n",
    "print(res+1)"
   ]
  },
  {
   "cell_type": "code",
   "execution_count": 30,
   "id": "76e1d6bf",
   "metadata": {},
   "outputs": [
    {
     "name": "stdout",
     "output_type": "stream",
     "text": [
      "[1, 3, 10, 19, 40, 150]\n"
     ]
    }
   ],
   "source": [
    "#selection sort\n",
    "arr=[150,3,40,19,10,1]\n",
    "def selection(arr):\n",
    "    for i in range(0,len(arr)):\n",
    "        mini=arr[i]\n",
    "        for j in range(i+1,len(arr)):\n",
    "                if(arr[j]<mini):\n",
    "                    mini=arr[j]\n",
    "                    arr[j],arr[i]=arr[i],arr[j]\n",
    "    return arr\n",
    "res=selection(arr)  \n",
    "print(res)"
   ]
  },
  {
   "cell_type": "code",
   "execution_count": 31,
   "id": "a48aa9a5",
   "metadata": {},
   "outputs": [
    {
     "name": "stdout",
     "output_type": "stream",
     "text": [
      "[1, 3, 10, 19, 40, 150]\n"
     ]
    }
   ],
   "source": [
    "#bubble sort\n",
    "def bubble(arr):\n",
    "    for i in range(0,len(arr)):\n",
    "        for j in range(0,len(arr)-i-1):\n",
    "            if arr[j] > arr[j+1]:\n",
    "                arr[j],arr[j+1] = arr[j+1],arr[j]\n",
    "    return arr\n",
    "res = bubble(arr)\n",
    "print(res)"
   ]
  },
  {
   "cell_type": "code",
   "execution_count": 4,
   "id": "fb621b37",
   "metadata": {},
   "outputs": [
    {
     "name": "stdout",
     "output_type": "stream",
     "text": [
      "[12, 11, 13, 5, 6, 7]\n",
      "After Merge Sort\n",
      "[5, 6, 7, 11, 12, 13]\n"
     ]
    }
   ],
   "source": [
    "#merge sort\n",
    "def Merge(arr,l,m,r):\n",
    "    n1 = m - l + 1\n",
    "    n2 = r - m\n",
    "    L = [0] * (n1) #[0,0,0,0]\n",
    "    R = [0] * (n2)\n",
    "    for i in range(0, n1):\n",
    "        L[i] = arr[l + i]\n",
    "    for j in range(0, n2):\n",
    "        R[j] = arr[m + 1 + j]\n",
    "    i = 0   \n",
    "    j = 0     \n",
    "    k = l      #merge array size \n",
    "    while i < n1 and j < n2:\n",
    "        if L[i] <= R[j]: # L = 2,3 R = 1  K = 1 2 3\n",
    "            arr[k] = L[i]\n",
    "            i += 1\n",
    "        else:\n",
    "            arr[k] = R[j]\n",
    "            j += 1\n",
    "        k += 1\n",
    "    while i < n1:\n",
    "        arr[k] = L[i]\n",
    "        i += 1\n",
    "        k += 1\n",
    "    while j < n2:\n",
    "        arr[k] = R[j]\n",
    "        j += 1\n",
    "        k += 1\n",
    "def MergeSort(arr,l,r):\n",
    "    if(l<r):  \n",
    "        mid = (l+(r-l)//2)\n",
    "        MergeSort(arr,l,mid)\n",
    "        MergeSort(arr,mid+1,r)\n",
    "        Merge(arr,l,mid,r)\n",
    "arr = [12, 11, 13, 5, 6, 7]\n",
    "print(arr)\n",
    "print(\"After Merge Sort\")\n",
    "MergeSort(arr, 0, len(arr)-1)\n",
    "print(arr)"
   ]
  },
  {
   "cell_type": "code",
   "execution_count": 33,
   "id": "0801fc4c",
   "metadata": {},
   "outputs": [
    {
     "name": "stdout",
     "output_type": "stream",
     "text": [
      "[1, 3, 10, 19, 22, 40, 150, 200]\n"
     ]
    }
   ],
   "source": [
    "#insertion sort\n",
    "arr=[150,3,40,19,10,1,22,200]\n",
    "def insertion_sort(arr):\n",
    "    for i in range(1,len(arr)):\n",
    "        key = arr[i]\n",
    "        j = i-1\n",
    "        while j >=0 and key<arr[j]:\n",
    "            arr[j+1] = arr[j]\n",
    "            j = j-1\n",
    "        arr[j+1] = key\n",
    "    return arr\n",
    "                \n",
    "arr = insertion_sort(arr)    \n",
    "print(arr)\n",
    "            \n",
    "        "
   ]
  },
  {
   "cell_type": "code",
   "execution_count": 15,
   "id": "4c6dedf2",
   "metadata": {},
   "outputs": [
    {
     "name": "stdout",
     "output_type": "stream",
     "text": [
      "[1, 3, 10, 19, 22, 40, 150, 200]\n"
     ]
    }
   ],
   "source": [
    "#Quick Sort\n",
    "def partition(low,arr,high):\n",
    "    i = low -1\n",
    "    pivot = arr[high]\n",
    "    for j in range(low,high):\n",
    "        if arr[j] <= pivot:\n",
    "            i+=1          \n",
    "            arr[i],arr[j] = arr[j],arr[i]\n",
    "    arr[i+1],arr[high] = arr[high],arr[i+1]\n",
    "    return i+1\n",
    "def quickSort(arr,low,high):\n",
    "    if low < high:\n",
    "        pi = partition(low,arr,high) \n",
    "        quickSort(arr, low, pi-1) \n",
    "        quickSort(arr, pi+1, high) \n",
    "\n",
    "a = [150,3,40,19,10,1,22,200]\n",
    "quickSort(a,0,len(a)-1)\n",
    "print(a)"
   ]
  },
  {
   "cell_type": "code",
   "execution_count": 23,
   "id": "5ae0d354",
   "metadata": {},
   "outputs": [
    {
     "name": "stdout",
     "output_type": "stream",
     "text": [
      "[0, 1, 6, 7, 10]\n"
     ]
    }
   ],
   "source": [
    "#Pattern Matching\n",
    "a = \"AAABABAAAWAABBB\"\n",
    "p = \"AA\"\n",
    "def pat_mat(text,pattern):\n",
    "    res = []\n",
    "    n = len(text)\n",
    "    m = len(pattern)\n",
    "    for i in range(0,n-m+1):\n",
    "        for j in range(0,m):\n",
    "            if (pattern[j]!=text[i+j]):\n",
    "                break\n",
    "            j+=1\n",
    "        if(j == m):\n",
    "            res.append(i)\n",
    "    return res\n",
    "res = pat_mat(a,p)\n",
    "print(res)\n",
    "    "
   ]
  },
  {
   "cell_type": "code",
   "execution_count": 4,
   "id": "3f856840",
   "metadata": {},
   "outputs": [
    {
     "name": "stdout",
     "output_type": "stream",
     "text": [
      "20\n",
      "30\n",
      "40\n",
      "50\n",
      "60\n",
      "70\n",
      "80\n",
      "False\n"
     ]
    }
   ],
   "source": [
    "class Tree:\n",
    "    def __init__(self, key):\n",
    "        self.left = None\n",
    "        self.right = None\n",
    "        self.value = key\n",
    "def add_node(root,key):\n",
    "    if root is None:\n",
    "        return Tree(key)\n",
    "        if root is None:\n",
    "            return Tree(key)\n",
    "    else:\n",
    "        if root is None or root.value == key:\n",
    "            return root  \n",
    "        elif root.value < key:\n",
    "            root.right = add_node(root.right,key)\n",
    "        else:\n",
    "            root.left =add_node(root.left,key)\n",
    "    return root\n",
    "def print_tree(root):\n",
    "    if root:\n",
    "        print_tree(root.left)\n",
    "#         res = res.append(root.value)\n",
    "        print(root.value)\n",
    "        print_tree(root.right)\n",
    "\n",
    "def search_node(root,key):\n",
    "    if root:\n",
    "        if root.value == key:\n",
    "            return True\n",
    "        if root.value < key:\n",
    "            return search_node(root.right,key)\n",
    "        else:\n",
    "            return search_node(root.left,key)\n",
    "    else:\n",
    "        return False\n",
    "        \n",
    "r = Tree(50)\n",
    "r = add_node(r, 30)\n",
    "r = add_node(r, 20)\n",
    "r = add_node(r, 40)\n",
    "r = add_node(r, 70)\n",
    "r = add_node(r, 60)\n",
    "r = add_node(r, 80)\n",
    "print_tree(r)\n",
    "sea = search_node(r,800)\n",
    "print(sea)\n"
   ]
  },
  {
   "cell_type": "code",
   "execution_count": null,
   "id": "a410e0c5",
   "metadata": {},
   "outputs": [],
   "source": []
  },
  {
   "cell_type": "code",
   "execution_count": null,
   "id": "d0acd457",
   "metadata": {},
   "outputs": [],
   "source": []
  }
 ],
 "metadata": {
  "kernelspec": {
   "display_name": "Python 3 (ipykernel)",
   "language": "python",
   "name": "python3"
  },
  "language_info": {
   "codemirror_mode": {
    "name": "ipython",
    "version": 3
   },
   "file_extension": ".py",
   "mimetype": "text/x-python",
   "name": "python",
   "nbconvert_exporter": "python",
   "pygments_lexer": "ipython3",
   "version": "3.9.7"
  }
 },
 "nbformat": 4,
 "nbformat_minor": 5
}
